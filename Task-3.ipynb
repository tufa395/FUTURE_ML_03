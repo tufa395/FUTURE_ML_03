{
  "nbformat": 4,
  "nbformat_minor": 0,
  "metadata": {
    "colab": {
      "provenance": []
    },
    "kernelspec": {
      "name": "python3",
      "display_name": "Python 3"
    },
    "language_info": {
      "name": "python"
    }
  },
  "cells": [
    {
      "cell_type": "code",
      "source": [
        "!pip install gradio nltk --quiet\n",
        "import nltk\n",
        "nltk.download('punkt')\n"
      ],
      "metadata": {
        "colab": {
          "base_uri": "https://localhost:8080/"
        },
        "id": "CbuuAP0gMJW0",
        "outputId": "ed556a53-d76b-47c7-ef0f-acb72ca5bb42"
      },
      "execution_count": 4,
      "outputs": [
        {
          "output_type": "stream",
          "name": "stdout",
          "text": [
            "\u001b[2K   \u001b[90m━━━━━━━━━━━━━━━━━━━━━━━━━━━━━━━━━━━━━━━━\u001b[0m \u001b[32m54.2/54.2 MB\u001b[0m \u001b[31m16.7 MB/s\u001b[0m eta \u001b[36m0:00:00\u001b[0m\n",
            "\u001b[2K   \u001b[90m━━━━━━━━━━━━━━━━━━━━━━━━━━━━━━━━━━━━━━━━\u001b[0m \u001b[32m323.3/323.3 kB\u001b[0m \u001b[31m21.6 MB/s\u001b[0m eta \u001b[36m0:00:00\u001b[0m\n",
            "\u001b[2K   \u001b[90m━━━━━━━━━━━━━━━━━━━━━━━━━━━━━━━━━━━━━━━━\u001b[0m \u001b[32m95.2/95.2 kB\u001b[0m \u001b[31m5.7 MB/s\u001b[0m eta \u001b[36m0:00:00\u001b[0m\n",
            "\u001b[2K   \u001b[90m━━━━━━━━━━━━━━━━━━━━━━━━━━━━━━━━━━━━━━━━\u001b[0m \u001b[32m11.5/11.5 MB\u001b[0m \u001b[31m67.2 MB/s\u001b[0m eta \u001b[36m0:00:00\u001b[0m\n",
            "\u001b[2K   \u001b[90m━━━━━━━━━━━━━━━━━━━━━━━━━━━━━━━━━━━━━━━━\u001b[0m \u001b[32m72.0/72.0 kB\u001b[0m \u001b[31m3.8 MB/s\u001b[0m eta \u001b[36m0:00:00\u001b[0m\n",
            "\u001b[2K   \u001b[90m━━━━━━━━━━━━━━━━━━━━━━━━━━━━━━━━━━━━━━━━\u001b[0m \u001b[32m62.5/62.5 kB\u001b[0m \u001b[31m4.6 MB/s\u001b[0m eta \u001b[36m0:00:00\u001b[0m\n",
            "\u001b[?25h"
          ]
        },
        {
          "output_type": "stream",
          "name": "stderr",
          "text": [
            "[nltk_data] Downloading package punkt to /root/nltk_data...\n",
            "[nltk_data]   Package punkt is already up-to-date!\n"
          ]
        },
        {
          "output_type": "execute_result",
          "data": {
            "text/plain": [
              "True"
            ]
          },
          "metadata": {},
          "execution_count": 4
        }
      ]
    },
    {
      "cell_type": "code",
      "source": [
        "import pandas as pd\n",
        "\n",
        "df = pd.read_csv(\"/content/customer_support_tickets.csv\")\n",
        "\n",
        "\n",
        "print(df['Ticket Subject'].value_counts().head())\n"
      ],
      "metadata": {
        "colab": {
          "base_uri": "https://localhost:8080/"
        },
        "id": "tFW3WN02MO3k",
        "outputId": "6b23993b-0031-4ac1-dfa8-105ec5d0a811"
      },
      "execution_count": 5,
      "outputs": [
        {
          "output_type": "stream",
          "name": "stdout",
          "text": [
            "Ticket Subject\n",
            "Refund request           576\n",
            "Software bug             574\n",
            "Product compatibility    567\n",
            "Delivery problem         561\n",
            "Hardware issue           547\n",
            "Name: count, dtype: int64\n"
          ]
        }
      ]
    },
    {
      "cell_type": "code",
      "source": [
        "from nltk.chat.util import Chat, reflections\n",
        "\n",
        "pairs = [\n",
        "\n",
        "    # Refund-related\n",
        "    [r\"(.*)refund(.*)\", [\"Refunds are processed within 5–7 business days.\"]],\n",
        "    [r\"(.*)money back(.*)\", [\"We process refunds in 5–7 business days.\"]],\n",
        "    [r\"(.*)return my money(.*)\", [\"We’ve initiated your refund. Please wait 5–7 business days.\"]],\n",
        "    [r\"(.*)how to get refund(.*)\", [\"You can request a refund from your order history page.\"]],\n",
        "    [r\"(.*)cancel and refund(.*)\", [\"Sure! Canceled orders are automatically refunded.\"]],\n",
        "\n",
        "    # Password reset / login\n",
        "    [r\"(.*)reset password(.*)\", [\"You can reset your password from the login page.\"]],\n",
        "    [r\"(.*)forgot password(.*)\", [\"Click on ‘Forgot Password’ to reset it.\"]],\n",
        "    [r\"(.*)can.?t login(.*)\", [\"Make sure your email and password are correct.\"]],\n",
        "    [r\"(.*)login problem(.*)\", [\"Try resetting your password or clearing browser cache.\"]],\n",
        "    [r\"(.*)change password(.*)\", [\"Go to account settings to change your password.\"]],\n",
        "\n",
        "    # Technical issues\n",
        "    [r\"(.*)not working(.*)\", [\"Please restart the app or try reinstalling it.\"]],\n",
        "    [r\"(.*)app crashed(.*)\", [\"Sorry about that. Please update the app and try again.\"]],\n",
        "    [r\"(.*)website down(.*)\", [\"We are working on it. Please check back soon.\"]],\n",
        "    [r\"(.*)error(.*)\", [\"Can you provide more details about the error you’re seeing?\"]],\n",
        "    [r\"(.*)loading issue(.*)\", [\"Try refreshing the page or checking your internet connection.\"]],\n",
        "\n",
        "    # Order tracking / delivery\n",
        "    [r\"(.*)track order(.*)\", [\"You can track your order using the tracking ID sent to your email.\"]],\n",
        "    [r\"(.*)where is my order(.*)\", [\"Let me check your order status. Can you provide your order ID?\"]],\n",
        "    [r\"(.*)delivery status(.*)\", [\"Orders are typically delivered within 3–5 days.\"]],\n",
        "    [r\"(.*)order late(.*)\", [\"We’re sorry! Delivery may be delayed due to high demand.\"]],\n",
        "    [r\"(.*)when will I receive(.*)\", [\"Your order is on the way! Expect delivery soon.\"]],\n",
        "\n",
        "    # Payment issues\n",
        "    [r\"(.*)payment failed(.*)\", [\"Please try another payment method or contact your bank.\"]],\n",
        "    [r\"(.*)card not working(.*)\", [\"Try using a different card or check for any limit issues.\"]],\n",
        "    [r\"(.*)payment error(.*)\", [\"Check if your card is valid and try again.\"]],\n",
        "    [r\"(.*)paid but no confirmation(.*)\", [\"Please wait a few minutes, or contact support with your receipt.\"]],\n",
        "\n",
        "    # Greetings and polite messages\n",
        "    [r\"hi|hello|hey\", [\"Hello! How can I assist you today?\"]],\n",
        "    [r\"good morning\", [\"Good morning! How can I help you today?\"]],\n",
        "    [r\"good evening\", [\"Good evening! Need any help?\"]],\n",
        "    [r\"thanks|thank you\", [\"You're welcome! Happy to help.\"]],\n",
        "    [r\"bye|goodbye\", [\"Take care! Let us know if you need anything else.\"]],\n",
        "\n",
        "    # Fallback/default\n",
        "    [r\"(.*)\", [\"Sorry, can you rephrase that or provide more details?\"]]\n",
        "]\n",
        "\n",
        "chatbot = Chat(pairs, reflections)\n",
        "print(\"Welcome to Customer Support Chatbot! (type 'quit' to exit)\")\n",
        "chatbot.converse()\n"
      ],
      "metadata": {
        "colab": {
          "base_uri": "https://localhost:8080/"
        },
        "id": "P3XFCuIeMcEQ",
        "outputId": "801d7e55-5665-482f-b242-c39754443a1f"
      },
      "execution_count": 13,
      "outputs": [
        {
          "output_type": "stream",
          "name": "stdout",
          "text": [
            "Welcome to Customer Support Chatbot! (type 'quit' to exit)\n",
            ">quit\n",
            "Sorry, can you rephrase that or provide more details?\n"
          ]
        }
      ]
    },
    {
      "cell_type": "code",
      "source": [
        "import gradio as gr\n",
        "\n",
        "def chatbot_response(msg):\n",
        "    return chatbot.respond(msg)\n",
        "\n",
        "gr.Interface(fn=chatbot_response, inputs=\"text\", outputs=\"text\", title=\"Support Chatbot\").launch()\n"
      ],
      "metadata": {
        "colab": {
          "base_uri": "https://localhost:8080/",
          "height": 646
        },
        "id": "lySJN9puMh3g",
        "outputId": "2192319c-8544-446c-c3b7-d4784e77205d"
      },
      "execution_count": 10,
      "outputs": [
        {
          "output_type": "stream",
          "name": "stdout",
          "text": [
            "It looks like you are running Gradio on a hosted a Jupyter notebook. For the Gradio app to work, sharing must be enabled. Automatically setting `share=True` (you can turn this off by setting `share=False` in `launch()` explicitly).\n",
            "\n",
            "Colab notebook detected. To show errors in colab notebook, set debug=True in launch()\n",
            "* Running on public URL: https://97bd9e68e6315cbe82.gradio.live\n",
            "\n",
            "This share link expires in 1 week. For free permanent hosting and GPU upgrades, run `gradio deploy` from the terminal in the working directory to deploy to Hugging Face Spaces (https://huggingface.co/spaces)\n"
          ]
        },
        {
          "output_type": "display_data",
          "data": {
            "text/plain": [
              "<IPython.core.display.HTML object>"
            ],
            "text/html": [
              "<div><iframe src=\"https://97bd9e68e6315cbe82.gradio.live\" width=\"100%\" height=\"500\" allow=\"autoplay; camera; microphone; clipboard-read; clipboard-write;\" frameborder=\"0\" allowfullscreen></iframe></div>"
            ]
          },
          "metadata": {}
        },
        {
          "output_type": "execute_result",
          "data": {
            "text/plain": []
          },
          "metadata": {},
          "execution_count": 10
        }
      ]
    },
    {
      "cell_type": "code",
      "source": [
        "import matplotlib.pyplot as plt\n",
        "\n",
        "df['Ticket Subject'].value_counts().head(5).plot(kind='bar', title='Top 5 Customer Issues')\n",
        "plt.xlabel(\"Issue\")\n",
        "plt.ylabel(\"Count\")\n",
        "plt.show()\n"
      ],
      "metadata": {
        "colab": {
          "base_uri": "https://localhost:8080/",
          "height": 606
        },
        "id": "AkwCb3LjMrDl",
        "outputId": "41a5d864-46c6-4dd6-d6d1-516089081c1e"
      },
      "execution_count": 11,
      "outputs": [
        {
          "output_type": "display_data",
          "data": {
            "text/plain": [
              "<Figure size 640x480 with 1 Axes>"
            ],
            "image/png": "[encoded data removed]"
          },
          "metadata": {}
        }
      ]
    }
  ]
}